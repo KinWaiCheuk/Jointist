{
 "cells": [
  {
   "cell_type": "code",
   "execution_count": 49,
   "id": "480f20a7",
   "metadata": {},
   "outputs": [],
   "source": [
    "import torch\n",
    "import numpy as np"
   ]
  },
  {
   "cell_type": "code",
   "execution_count": 47,
   "id": "7ae7792f",
   "metadata": {},
   "outputs": [
    {
     "data": {
      "text/plain": [
       "88"
      ]
     },
     "execution_count": 47,
     "metadata": {},
     "output_type": "execute_result"
    }
   ],
   "source": [
    "pretty_midi.instrument_name_to_program('Pad 1 (new age)')"
   ]
  },
  {
   "cell_type": "code",
   "execution_count": 19,
   "id": "edca8980",
   "metadata": {},
   "outputs": [],
   "source": [
    "metrics = {k:torch.randint(high=10, size=(1,)).cuda() for k in range(10)}"
   ]
  },
  {
   "cell_type": "code",
   "execution_count": 22,
   "id": "c0e60439",
   "metadata": {},
   "outputs": [],
   "source": [
    "values = list(metrics.values())"
   ]
  },
  {
   "cell_type": "code",
   "execution_count": 24,
   "id": "fe68b0a6",
   "metadata": {},
   "outputs": [
    {
     "data": {
      "text/plain": [
       "array([tensor([1.9459], device='cuda:0'),\n",
       "       tensor([1.9459], device='cuda:0'),\n",
       "       tensor([1.0986], device='cuda:0'),\n",
       "       tensor([1.9459], device='cuda:0'),\n",
       "       tensor([2.1972], device='cuda:0'),\n",
       "       tensor([1.0986], device='cuda:0'),\n",
       "       tensor([0.6931], device='cuda:0'), tensor([-inf], device='cuda:0'),\n",
       "       tensor([-inf], device='cuda:0'), tensor([1.0986], device='cuda:0')],\n",
       "      dtype=object)"
      ]
     },
     "execution_count": 24,
     "metadata": {},
     "output_type": "execute_result"
    }
   ],
   "source": [
    "np.log(values)"
   ]
  },
  {
   "cell_type": "code",
   "execution_count": 10,
   "id": "d19f82b4",
   "metadata": {},
   "outputs": [],
   "source": [
    "x = torch.randn(4,1001,229).cuda()"
   ]
  },
  {
   "cell_type": "code",
   "execution_count": 11,
   "id": "a49f9c4b",
   "metadata": {},
   "outputs": [
    {
     "ename": "TypeError",
     "evalue": "can't convert cuda:0 device type tensor to numpy. Use Tensor.cpu() to copy the tensor to host memory first.",
     "output_type": "error",
     "traceback": [
      "\u001b[0;31m---------------------------------------------------------------------------\u001b[0m",
      "\u001b[0;31mTypeError\u001b[0m                                 Traceback (most recent call last)",
      "\u001b[0;32m/tmp/ipykernel_3653995/1277889159.py\u001b[0m in \u001b[0;36m<module>\u001b[0;34m\u001b[0m\n\u001b[0;32m----> 1\u001b[0;31m \u001b[0mnp\u001b[0m\u001b[0;34m.\u001b[0m\u001b[0mlog\u001b[0m\u001b[0;34m(\u001b[0m\u001b[0mx\u001b[0m\u001b[0;34m)\u001b[0m\u001b[0;34m\u001b[0m\u001b[0;34m\u001b[0m\u001b[0m\n\u001b[0m",
      "\u001b[0;32m~/anaconda3/envs/jointist/lib/python3.8/site-packages/torch/_tensor.py\u001b[0m in \u001b[0;36m__array__\u001b[0;34m(self, dtype)\u001b[0m\n\u001b[1;32m    676\u001b[0m             \u001b[0;32mreturn\u001b[0m \u001b[0mhandle_torch_function\u001b[0m\u001b[0;34m(\u001b[0m\u001b[0mTensor\u001b[0m\u001b[0;34m.\u001b[0m\u001b[0m__array__\u001b[0m\u001b[0;34m,\u001b[0m \u001b[0;34m(\u001b[0m\u001b[0mself\u001b[0m\u001b[0;34m,\u001b[0m\u001b[0;34m)\u001b[0m\u001b[0;34m,\u001b[0m \u001b[0mself\u001b[0m\u001b[0;34m,\u001b[0m \u001b[0mdtype\u001b[0m\u001b[0;34m=\u001b[0m\u001b[0mdtype\u001b[0m\u001b[0;34m)\u001b[0m\u001b[0;34m\u001b[0m\u001b[0;34m\u001b[0m\u001b[0m\n\u001b[1;32m    677\u001b[0m         \u001b[0;32mif\u001b[0m \u001b[0mdtype\u001b[0m \u001b[0;32mis\u001b[0m \u001b[0;32mNone\u001b[0m\u001b[0;34m:\u001b[0m\u001b[0;34m\u001b[0m\u001b[0;34m\u001b[0m\u001b[0m\n\u001b[0;32m--> 678\u001b[0;31m             \u001b[0;32mreturn\u001b[0m \u001b[0mself\u001b[0m\u001b[0;34m.\u001b[0m\u001b[0mnumpy\u001b[0m\u001b[0;34m(\u001b[0m\u001b[0;34m)\u001b[0m\u001b[0;34m\u001b[0m\u001b[0;34m\u001b[0m\u001b[0m\n\u001b[0m\u001b[1;32m    679\u001b[0m         \u001b[0;32melse\u001b[0m\u001b[0;34m:\u001b[0m\u001b[0;34m\u001b[0m\u001b[0;34m\u001b[0m\u001b[0m\n\u001b[1;32m    680\u001b[0m             \u001b[0;32mreturn\u001b[0m \u001b[0mself\u001b[0m\u001b[0;34m.\u001b[0m\u001b[0mnumpy\u001b[0m\u001b[0;34m(\u001b[0m\u001b[0;34m)\u001b[0m\u001b[0;34m.\u001b[0m\u001b[0mastype\u001b[0m\u001b[0;34m(\u001b[0m\u001b[0mdtype\u001b[0m\u001b[0;34m,\u001b[0m \u001b[0mcopy\u001b[0m\u001b[0;34m=\u001b[0m\u001b[0;32mFalse\u001b[0m\u001b[0;34m)\u001b[0m\u001b[0;34m\u001b[0m\u001b[0;34m\u001b[0m\u001b[0m\n",
      "\u001b[0;31mTypeError\u001b[0m: can't convert cuda:0 device type tensor to numpy. Use Tensor.cpu() to copy the tensor to host memory first."
     ]
    }
   ],
   "source": [
    "np.log(x)"
   ]
  },
  {
   "cell_type": "code",
   "execution_count": 7,
   "id": "c7b13ee9",
   "metadata": {},
   "outputs": [
    {
     "ename": "FileNotFoundError",
     "evalue": "[Errno 2] No such file or directory: './End2End/MIDI_program_map.tsv'",
     "output_type": "error",
     "traceback": [
      "\u001b[0;31m---------------------------------------------------------------------------\u001b[0m",
      "\u001b[0;31mFileNotFoundError\u001b[0m                         Traceback (most recent call last)",
      "\u001b[0;32m/tmp/ipykernel_3653995/3877345047.py\u001b[0m in \u001b[0;36m<module>\u001b[0;34m\u001b[0m\n\u001b[0;32m----> 1\u001b[0;31m from MIDI_program_map import (MIDI_PROGRAM_NUM,\n\u001b[0m\u001b[1;32m      2\u001b[0m                                       \u001b[0mMIDIProgramName2class_idx\u001b[0m\u001b[0;34m,\u001b[0m\u001b[0;34m\u001b[0m\u001b[0;34m\u001b[0m\u001b[0m\n\u001b[1;32m      3\u001b[0m                                       \u001b[0mclass_idx2MIDIProgramName\u001b[0m\u001b[0;34m,\u001b[0m\u001b[0;34m\u001b[0m\u001b[0;34m\u001b[0m\u001b[0m\n\u001b[1;32m      4\u001b[0m                                       \u001b[0mMIDI_Class_NUM\u001b[0m\u001b[0;34m,\u001b[0m\u001b[0;34m\u001b[0m\u001b[0;34m\u001b[0m\u001b[0m\n\u001b[1;32m      5\u001b[0m                                       \u001b[0mMIDIClassName2class_idx\u001b[0m\u001b[0;34m,\u001b[0m\u001b[0;34m\u001b[0m\u001b[0;34m\u001b[0m\u001b[0m\n",
      "\u001b[0;32m/opt/tiger/kinwai/jointist/End2End/MIDI_program_map.py\u001b[0m in \u001b[0;36m<module>\u001b[0;34m\u001b[0m\n\u001b[1;32m      1\u001b[0m \u001b[0;32mimport\u001b[0m \u001b[0mpickle\u001b[0m\u001b[0;34m\u001b[0m\u001b[0;34m\u001b[0m\u001b[0m\n\u001b[1;32m      2\u001b[0m \u001b[0;32mimport\u001b[0m \u001b[0mcsv\u001b[0m\u001b[0;34m\u001b[0m\u001b[0;34m\u001b[0m\u001b[0m\n\u001b[0;32m----> 3\u001b[0;31m \u001b[0;32mwith\u001b[0m \u001b[0mopen\u001b[0m\u001b[0;34m(\u001b[0m\u001b[0;34m'./End2End/MIDI_program_map.tsv'\u001b[0m\u001b[0;34m)\u001b[0m \u001b[0;32mas\u001b[0m \u001b[0mcsv_file\u001b[0m\u001b[0;34m:\u001b[0m\u001b[0;34m\u001b[0m\u001b[0;34m\u001b[0m\u001b[0m\n\u001b[0m\u001b[1;32m      4\u001b[0m     \u001b[0mcsv_reader\u001b[0m \u001b[0;34m=\u001b[0m \u001b[0mcsv\u001b[0m\u001b[0;34m.\u001b[0m\u001b[0mreader\u001b[0m\u001b[0;34m(\u001b[0m\u001b[0mcsv_file\u001b[0m\u001b[0;34m,\u001b[0m \u001b[0mdelimiter\u001b[0m\u001b[0;34m=\u001b[0m\u001b[0;34m'\\t'\u001b[0m\u001b[0;34m)\u001b[0m\u001b[0;34m\u001b[0m\u001b[0;34m\u001b[0m\u001b[0m\n\u001b[1;32m      5\u001b[0m     \u001b[0mline_count\u001b[0m \u001b[0;34m=\u001b[0m \u001b[0;36m0\u001b[0m\u001b[0;34m\u001b[0m\u001b[0;34m\u001b[0m\u001b[0m\n",
      "\u001b[0;31mFileNotFoundError\u001b[0m: [Errno 2] No such file or directory: './End2End/MIDI_program_map.tsv'"
     ]
    }
   ],
   "source": [
    "from MIDI_program_map import (MIDI_PROGRAM_NUM,\n",
    "                                      MIDIProgramName2class_idx,\n",
    "                                      class_idx2MIDIProgramName,\n",
    "                                      MIDI_Class_NUM,\n",
    "                                      MIDIClassName2class_idx,\n",
    "                                      class_idx2MIDIClass,\n",
    "                                      W_MIDI_Class_NUM,\n",
    "                                      W_MIDIClassName2class_idx,\n",
    "                                      W_class_idx2MIDIClass,\n",
    "                                      )"
   ]
  },
  {
   "cell_type": "code",
   "execution_count": null,
   "id": "970643bb",
   "metadata": {},
   "outputs": [],
   "source": []
  },
  {
   "cell_type": "code",
   "execution_count": 2,
   "id": "4eb2660a",
   "metadata": {},
   "outputs": [],
   "source": [
    "import pickle\n",
    "import csv\n",
    "with open('./MIDI_program_map.tsv') as csv_file:\n",
    "    csv_reader = csv.reader(csv_file, delimiter='\\t')\n",
    "    line_count = 0\n",
    "    idx2class_name = {}\n",
    "    idx2instrument_name = {}\n",
    "    idx2instrument_class = {}\n",
    "    for row in csv_reader:\n",
    "        idx2class_name[int(row[0])] = row[1]\n",
    "        idx2instrument_name[int(row[0])] = row[2]\n",
    "        idx2instrument_class[int(row[0])] = row[3]      \n",
    "        \n",
    "        \n",
    "slakh_instrument = pickle.load(open('./slakh_instruments.pkl', 'rb')) # This is the midi channel for slakh\n",
    "\n",
    "MIDIProgramName2class_idx = {}\n",
    "class_idx2MIDIProgramName = {}\n",
    "\n",
    "MIDIClassName2class_idx = {}\n",
    "class_idx2MIDIClass = {}\n",
    "for idx,i in enumerate(slakh_instrument):\n",
    "    MIDIProgramName2class_idx[idx2instrument_name[i]] = idx\n",
    "    class_idx2MIDIProgramName[idx] = idx2instrument_name[i]\n",
    "    \n",
    "    MIDIClassName2class_idx[idx2instrument_class[i]] = idx\n",
    "    class_idx2MIDIClass[idx] = idx2instrument_class[i]    "
   ]
  },
  {
   "cell_type": "code",
   "execution_count": 4,
   "id": "65938231",
   "metadata": {},
   "outputs": [
    {
     "data": {
      "text/plain": [
       "{0: 'Piano',\n",
       " 1: 'Piano',\n",
       " 2: 'Piano',\n",
       " 3: 'Piano',\n",
       " 4: 'Electric Piano',\n",
       " 5: 'Electric Piano',\n",
       " 6: 'Harpsichord',\n",
       " 7: 'Clavinet',\n",
       " 8: 'Chromatic Percussion',\n",
       " 9: 'Chromatic Percussion',\n",
       " 10: 'Chromatic Percussion',\n",
       " 11: 'Chromatic Percussion',\n",
       " 12: 'Chromatic Percussion',\n",
       " 13: 'Chromatic Percussion',\n",
       " 14: 'Chromatic Percussion',\n",
       " 15: 'Chromatic Percussion',\n",
       " 16: 'Organ',\n",
       " 17: 'Organ',\n",
       " 18: 'Organ',\n",
       " 19: 'Organ',\n",
       " 20: 'Organ',\n",
       " 21: 'Accordion',\n",
       " 22: 'Harmonica',\n",
       " 23: 'Accordion',\n",
       " 24: 'Guitar',\n",
       " 25: 'Guitar',\n",
       " 26: 'Guitar',\n",
       " 27: 'Guitar',\n",
       " 28: 'Guitar',\n",
       " 29: 'Guitar',\n",
       " 30: 'Guitar',\n",
       " 31: 'Guitar',\n",
       " 32: 'Bass',\n",
       " 33: 'Bass',\n",
       " 34: 'Bass',\n",
       " 35: 'Bass',\n",
       " 36: 'Bass',\n",
       " 37: 'Bass',\n",
       " 38: 'Violin',\n",
       " 39: 'Viola',\n",
       " 40: 'Cello',\n",
       " 41: 'Contrabass',\n",
       " 42: 'Strings',\n",
       " 43: 'Strings',\n",
       " 44: 'Harp',\n",
       " 45: 'Timpani',\n",
       " 46: 'Strings',\n",
       " 47: 'Strings',\n",
       " 48: 'Strings',\n",
       " 49: 'Strings',\n",
       " 50: 'Voice',\n",
       " 51: 'Voice',\n",
       " 52: 'Voice',\n",
       " 53: 'Trumpet',\n",
       " 54: 'Trombone',\n",
       " 55: 'Tuba',\n",
       " 56: 'Trumpet',\n",
       " 57: 'Horn',\n",
       " 58: 'Brass',\n",
       " 59: 'Saxophone',\n",
       " 60: 'Saxophone',\n",
       " 61: 'Saxophone',\n",
       " 62: 'Saxophone',\n",
       " 63: 'Oboe',\n",
       " 64: 'Horn',\n",
       " 65: 'Bassoon',\n",
       " 66: 'Clarinet',\n",
       " 67: 'Piccolo',\n",
       " 68: 'Flute',\n",
       " 69: 'Recorder',\n",
       " 70: 'Pipe',\n",
       " 71: 'Pipe',\n",
       " 72: 'Pipe',\n",
       " 73: 'Pipe',\n",
       " 74: 'Pipe',\n",
       " 75: 'Synth Lead',\n",
       " 76: 'Synth Lead',\n",
       " 77: 'Synth Lead',\n",
       " 78: 'Synth Lead',\n",
       " 79: 'Synth Lead',\n",
       " 80: 'Synth Lead',\n",
       " 81: 'Synth Lead',\n",
       " 82: 'Synth Lead',\n",
       " 83: 'Synth Pad',\n",
       " 84: 'Synth Pad',\n",
       " 85: 'Synth Pad',\n",
       " 86: 'Synth Pad',\n",
       " 87: 'Synth Pad',\n",
       " 88: 'Synth Pad',\n",
       " 89: 'Synth Pad',\n",
       " 90: 'Synth Pad'}"
      ]
     },
     "execution_count": 4,
     "metadata": {},
     "output_type": "execute_result"
    }
   ],
   "source": [
    "class_idx2MIDIClass"
   ]
  },
  {
   "cell_type": "code",
   "execution_count": 3,
   "id": "991a019b",
   "metadata": {},
   "outputs": [
    {
     "data": {
      "text/plain": [
       "{'Piano': 3,\n",
       " 'Electric Piano': 5,\n",
       " 'Harpsichord': 6,\n",
       " 'Clavinet': 7,\n",
       " 'Chromatic Percussion': 15,\n",
       " 'Organ': 20,\n",
       " 'Accordion': 23,\n",
       " 'Harmonica': 22,\n",
       " 'Guitar': 31,\n",
       " 'Bass': 37,\n",
       " 'Violin': 38,\n",
       " 'Viola': 39,\n",
       " 'Cello': 40,\n",
       " 'Contrabass': 41,\n",
       " 'Strings': 49,\n",
       " 'Harp': 44,\n",
       " 'Timpani': 45,\n",
       " 'Voice': 52,\n",
       " 'Trumpet': 56,\n",
       " 'Trombone': 54,\n",
       " 'Tuba': 55,\n",
       " 'Horn': 64,\n",
       " 'Brass': 58,\n",
       " 'Saxophone': 62,\n",
       " 'Oboe': 63,\n",
       " 'Bassoon': 65,\n",
       " 'Clarinet': 66,\n",
       " 'Piccolo': 67,\n",
       " 'Flute': 68,\n",
       " 'Recorder': 69,\n",
       " 'Pipe': 74,\n",
       " 'Synth Lead': 82,\n",
       " 'Synth Pad': 90}"
      ]
     },
     "execution_count": 3,
     "metadata": {},
     "output_type": "execute_result"
    }
   ],
   "source": [
    "MIDIClassName2class_idx"
   ]
  },
  {
   "cell_type": "code",
   "execution_count": 39,
   "id": "915e85e2",
   "metadata": {},
   "outputs": [],
   "source": [
    "for idx,i in enumerate(slakh_instrument):\n",
    "    MIDIClassName2class_idx[idx2instrument_class[i]] = idx    "
   ]
  },
  {
   "cell_type": "code",
   "execution_count": 40,
   "id": "5be62d56",
   "metadata": {},
   "outputs": [
    {
     "data": {
      "text/plain": [
       "{'Piano': 3,\n",
       " 'Synth Lead': 82,\n",
       " 'Strings': 49,\n",
       " 'Contrabass': 41,\n",
       " 'Viola': 39,\n",
       " 'Cello': 40,\n",
       " 'Trombone': 54,\n",
       " 'Bass': 37,\n",
       " 'Guitar': 31,\n",
       " 'Harp': 44,\n",
       " 'Electric Piano': 5,\n",
       " 'Harmonica': 22,\n",
       " 'Ethnic': 12,\n",
       " 'Sound Effects': 13,\n",
       " 'Recorder': 69,\n",
       " 'Pipe': 74,\n",
       " 'Percussive': 16,\n",
       " 'Harpsichord': 6,\n",
       " 'Trumpet': 56,\n",
       " 'Accordion': 23,\n",
       " 'Flute': 68,\n",
       " 'Synth Pad': 90,\n",
       " 'Violin': 38,\n",
       " 'Piccolo': 67,\n",
       " 'Tuba': 55,\n",
       " 'Bassoon': 65,\n",
       " 'Oboe': 63,\n",
       " 'Synth Effects': 27,\n",
       " 'Voice': 52,\n",
       " 'Timpani': 45,\n",
       " 'Chromatic Percussion': 15,\n",
       " 'Clarinet': 66,\n",
       " 'Horn': 64,\n",
       " 'Brass': 58,\n",
       " 'Saxophone': 62,\n",
       " 'Clavinet': 7,\n",
       " 'Organ': 20}"
      ]
     },
     "execution_count": 40,
     "metadata": {},
     "output_type": "execute_result"
    }
   ],
   "source": [
    "MIDIClassName2class_idx"
   ]
  },
  {
   "cell_type": "code",
   "execution_count": 22,
   "id": "d282e0ad",
   "metadata": {},
   "outputs": [
    {
     "name": "stdout",
     "output_type": "stream",
     "text": [
      "0\n",
      "1\n",
      "2\n",
      "3\n",
      "4\n",
      "5\n",
      "6\n",
      "7\n",
      "8\n",
      "9\n",
      "10\n",
      "11\n",
      "12\n",
      "13\n",
      "14\n",
      "15\n",
      "16\n",
      "17\n",
      "18\n",
      "19\n",
      "20\n",
      "21\n",
      "22\n",
      "23\n",
      "24\n",
      "25\n",
      "26\n",
      "27\n",
      "28\n",
      "29\n",
      "30\n",
      "31\n",
      "32\n",
      "33\n",
      "34\n",
      "35\n",
      "36\n",
      "37\n",
      "38\n",
      "39\n",
      "40\n",
      "41\n",
      "42\n",
      "43\n",
      "44\n",
      "45\n",
      "46\n",
      "47\n",
      "48\n",
      "49\n",
      "50\n",
      "51\n",
      "52\n",
      "53\n",
      "54\n",
      "55\n",
      "56\n",
      "57\n",
      "58\n",
      "59\n",
      "60\n",
      "61\n",
      "62\n",
      "63\n",
      "64\n",
      "65\n",
      "66\n",
      "67\n",
      "68\n",
      "69\n",
      "70\n",
      "71\n",
      "72\n",
      "73\n",
      "74\n",
      "75\n",
      "76\n",
      "77\n",
      "78\n",
      "79\n",
      "80\n",
      "81\n",
      "82\n",
      "83\n",
      "84\n",
      "85\n",
      "86\n",
      "87\n",
      "88\n",
      "89\n",
      "90\n"
     ]
    }
   ],
   "source": [
    "for i in class_idx2MIDIClass:\n",
    "    print(i)"
   ]
  },
  {
   "cell_type": "code",
   "execution_count": 21,
   "id": "931e48b8",
   "metadata": {},
   "outputs": [
    {
     "data": {
      "text/plain": [
       "{'Piano': 3,\n",
       " 'Electric Piano': 5,\n",
       " 'Harpsichord': 6,\n",
       " 'Clavinet': 7,\n",
       " 'Chromatic Percussion': 15,\n",
       " 'Organ': 20,\n",
       " 'Accordion': 23,\n",
       " 'Harmonica': 22,\n",
       " 'Guitar': 31,\n",
       " 'Bass': 37,\n",
       " 'Violin': 38,\n",
       " 'Viola': 39,\n",
       " 'Cello': 40,\n",
       " 'Contrabass': 41,\n",
       " 'Strings': 49,\n",
       " 'Harp': 44,\n",
       " 'Timpani': 45,\n",
       " 'Voice': 52,\n",
       " 'Trumpet': 56,\n",
       " 'Trombone': 54,\n",
       " 'Tuba': 55,\n",
       " 'Horn': 64,\n",
       " 'Brass': 58,\n",
       " 'Saxophone': 62,\n",
       " 'Oboe': 63,\n",
       " 'Bassoon': 65,\n",
       " 'Clarinet': 66,\n",
       " 'Piccolo': 67,\n",
       " 'Flute': 68,\n",
       " 'Recorder': 69,\n",
       " 'Pipe': 74,\n",
       " 'Synth Lead': 82,\n",
       " 'Synth Pad': 90}"
      ]
     },
     "execution_count": 21,
     "metadata": {},
     "output_type": "execute_result"
    }
   ],
   "source": [
    "MIDIClassName2class_idx"
   ]
  },
  {
   "cell_type": "code",
   "execution_count": 33,
   "id": "b6f220f3",
   "metadata": {},
   "outputs": [],
   "source": [
    "unique_instrument_class = set()\n",
    "for i in idx2instrument_class.items():\n",
    "    unique_instrument_class.update([i[1]])"
   ]
  },
  {
   "cell_type": "code",
   "execution_count": 34,
   "id": "55ccbff1",
   "metadata": {},
   "outputs": [
    {
     "data": {
      "text/plain": [
       "{'Accordion',\n",
       " 'Bass',\n",
       " 'Bassoon',\n",
       " 'Brass',\n",
       " 'Cello',\n",
       " 'Chromatic Percussion',\n",
       " 'Clarinet',\n",
       " 'Clavinet',\n",
       " 'Contrabass',\n",
       " 'Electric Piano',\n",
       " 'Ethnic',\n",
       " 'Flute',\n",
       " 'Guitar',\n",
       " 'Harmonica',\n",
       " 'Harp',\n",
       " 'Harpsichord',\n",
       " 'Horn',\n",
       " 'Oboe',\n",
       " 'Organ',\n",
       " 'Percussive',\n",
       " 'Piano',\n",
       " 'Piccolo',\n",
       " 'Pipe',\n",
       " 'Recorder',\n",
       " 'Saxophone',\n",
       " 'Sound Effects',\n",
       " 'Strings',\n",
       " 'Synth Effects',\n",
       " 'Synth Lead',\n",
       " 'Synth Pad',\n",
       " 'Timpani',\n",
       " 'Trombone',\n",
       " 'Trumpet',\n",
       " 'Tuba',\n",
       " 'Viola',\n",
       " 'Violin',\n",
       " 'Voice'}"
      ]
     },
     "execution_count": 34,
     "metadata": {},
     "output_type": "execute_result"
    }
   ],
   "source": [
    "unique_instrument_class"
   ]
  },
  {
   "cell_type": "code",
   "execution_count": null,
   "id": "82f0bd23",
   "metadata": {},
   "outputs": [],
   "source": []
  }
 ],
 "metadata": {
  "kernelspec": {
   "display_name": "jointist",
   "language": "python",
   "name": "jointist"
  },
  "language_info": {
   "codemirror_mode": {
    "name": "ipython",
    "version": 3
   },
   "file_extension": ".py",
   "mimetype": "text/x-python",
   "name": "python",
   "nbconvert_exporter": "python",
   "pygments_lexer": "ipython3",
   "version": "3.8.10"
  }
 },
 "nbformat": 4,
 "nbformat_minor": 5
}
